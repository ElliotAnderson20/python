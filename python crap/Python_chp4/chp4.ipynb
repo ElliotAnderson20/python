{
 "cells": [
  {
   "cell_type": "code",
   "execution_count": 1,
   "metadata": {},
   "outputs": [
    {
     "data": {
      "text/plain": [
       "10"
      ]
     },
     "execution_count": 1,
     "metadata": {},
     "output_type": "execute_result"
    }
   ],
   "source": [
    "#built in mathematical functions\n",
    "min(10,20)"
   ]
  },
  {
   "cell_type": "code",
   "execution_count": 2,
   "metadata": {},
   "outputs": [
    {
     "data": {
      "text/plain": [
       "20"
      ]
     },
     "execution_count": 2,
     "metadata": {},
     "output_type": "execute_result"
    }
   ],
   "source": [
    "max(10,20)"
   ]
  },
  {
   "cell_type": "code",
   "execution_count": 4,
   "metadata": {},
   "outputs": [
    {
     "data": {
      "text/plain": [
       "8"
      ]
     },
     "execution_count": 4,
     "metadata": {},
     "output_type": "execute_result"
    }
   ],
   "source": [
    "pow(2,3)"
   ]
  },
  {
   "cell_type": "code",
   "execution_count": 5,
   "metadata": {},
   "outputs": [
    {
     "data": {
      "text/plain": [
       "0"
      ]
     },
     "execution_count": 5,
     "metadata": {},
     "output_type": "execute_result"
    }
   ],
   "source": [
    "pow(2,3,4)"
   ]
  },
  {
   "cell_type": "code",
   "execution_count": 6,
   "metadata": {},
   "outputs": [
    {
     "data": {
      "text/plain": [
       "2"
      ]
     },
     "execution_count": 6,
     "metadata": {},
     "output_type": "execute_result"
    }
   ],
   "source": [
    "round(2.029)"
   ]
  },
  {
   "cell_type": "code",
   "execution_count": 7,
   "metadata": {},
   "outputs": [
    {
     "data": {
      "text/plain": [
       "5"
      ]
     },
     "execution_count": 7,
     "metadata": {},
     "output_type": "execute_result"
    }
   ],
   "source": [
    "abs(-5)"
   ]
  },
  {
   "cell_type": "code",
   "execution_count": 8,
   "metadata": {},
   "outputs": [],
   "source": [
    "import math\n",
    "#math functions"
   ]
  },
  {
   "cell_type": "code",
   "execution_count": 9,
   "metadata": {},
   "outputs": [
    {
     "data": {
      "text/plain": [
       "3"
      ]
     },
     "execution_count": 9,
     "metadata": {},
     "output_type": "execute_result"
    }
   ],
   "source": [
    "math.ceil(2.3)"
   ]
  },
  {
   "cell_type": "code",
   "execution_count": 10,
   "metadata": {},
   "outputs": [
    {
     "data": {
      "text/plain": [
       "3"
      ]
     },
     "execution_count": 10,
     "metadata": {},
     "output_type": "execute_result"
    }
   ],
   "source": [
    "math.floor(3.4)"
   ]
  },
  {
   "cell_type": "code",
   "execution_count": 11,
   "metadata": {},
   "outputs": [
    {
     "name": "stdout",
     "output_type": "stream",
     "text": [
      "0.8939966636005579\n",
      "-0.4480736161291701\n",
      "-1.995200412208242\n"
     ]
    }
   ],
   "source": [
    "print(math.sin(90))\n",
    "print(math.cos(90))\n",
    "print(math.tan(90))"
   ]
  },
  {
   "cell_type": "code",
   "execution_count": 2,
   "metadata": {},
   "outputs": [
    {
     "name": "stdout",
     "output_type": "stream",
     "text": [
      "7.38905609893065\n",
      "-2.0\n",
      "10.0\n",
      "720\n",
      "0.0\n",
      "5.0\n"
     ]
    }
   ],
   "source": [
    "import math\n",
    "print(math.exp(2))\n",
    "print(math.copysign(2,-1))\n",
    "print(math.fabs(-10.0))\n",
    "print(math.factorial(6))\n",
    "print(math.fmod(10,2))\n",
    "print(math.sqrt(25))"
   ]
  },
  {
   "cell_type": "code",
   "execution_count": 3,
   "metadata": {},
   "outputs": [
    {
     "name": "stdout",
     "output_type": "stream",
     "text": [
      "10\n"
     ]
    }
   ],
   "source": [
    "print(math.trunc(10))"
   ]
  },
  {
   "cell_type": "code",
   "execution_count": 4,
   "metadata": {},
   "outputs": [
    {
     "data": {
      "text/plain": [
       "100000000000000000000"
      ]
     },
     "execution_count": 4,
     "metadata": {},
     "output_type": "execute_result"
    }
   ],
   "source": [
    "#functions example\n",
    "def math1(x1,x2):\n",
    "    return x1 ** x2\n",
    "\n",
    "math1(10,20)"
   ]
  },
  {
   "cell_type": "code",
   "execution_count": 7,
   "metadata": {},
   "outputs": [
    {
     "name": "stdout",
     "output_type": "stream",
     "text": [
      "(1.272019649514069+0.7861513777574233j)\n",
      "(1.1609640474436813+1.5972779646881088j)\n",
      "(-1.1312043837568135+2.4717266720048188j)\n"
     ]
    }
   ],
   "source": [
    "\n",
    "#module demonstration\n",
    "import cmath\n",
    "print(cmath.sqrt(1+2j))\n",
    "print(cmath.log(1+2j,2))\n",
    "print(cmath.exp(1+2j))\n"
   ]
  },
  {
   "cell_type": "code",
   "execution_count": 1,
   "metadata": {},
   "outputs": [],
   "source": [
    "import matplotlib\n"
   ]
  },
  {
   "cell_type": "code",
   "execution_count": 10,
   "metadata": {},
   "outputs": [
    {
     "name": "stdout",
     "output_type": "stream",
     "text": [
      "[ 0  1  2  3  4  5  6  7  8  9 10 11 12 13 14 15 16 17 18 19]\n",
      "[[ 0  1  2  3  4]\n",
      " [ 5  6  7  8  9]\n",
      " [10 11 12 13 14]\n",
      " [15 16 17 18 19]]\n",
      "[[0. 0. 0. 0.]\n",
      " [0. 0. 0. 0.]\n",
      " [0. 0. 0. 0.]]\n"
     ]
    }
   ],
   "source": [
    "from matplotlib import pyplot as plyt\n",
    "import numpy \n",
    "print(numpy.arange(20))\n",
    "a = numpy.arange(20)\n",
    "print(a.reshape(4,5))\n",
    "b = numpy.array(a)\n",
    "b = numpy.zeros((3,4))\n",
    "print(b)\n",
    "\n"
   ]
  },
  {
   "cell_type": "code",
   "execution_count": 12,
   "metadata": {},
   "outputs": [
    {
     "data": {
      "image/png": "[encoded data removed]",
      "text/plain": [
       "<Figure size 640x480 with 1 Axes>"
      ]
     },
     "metadata": {},
     "output_type": "display_data"
    }
   ],
   "source": [
    "from matplotlib import pyplot as plt\n",
    "x = [2,4,8,10]\n",
    "y = [2,8,8,2]\n",
    "plt.plot(x,y)\n",
    "plt.show()\n"
   ]
  },
  {
   "cell_type": "code",
   "execution_count": 1,
   "metadata": {},
   "outputs": [],
   "source": [
    "import pandas as pd "
   ]
  },
  {
   "cell_type": "code",
   "execution_count": 2,
   "metadata": {},
   "outputs": [
    {
     "name": "stdout",
     "output_type": "stream",
     "text": [
      "0    10\n",
      "1    20\n",
      "2    30\n",
      "3    40\n",
      "4    50\n",
      "5    60\n",
      "6    70\n",
      "dtype: int64\n"
     ]
    }
   ],
   "source": [
    "#Basic 1-d array with by default index\n",
    "Data = [10,20,30,40,50,60,70]\n",
    "s = pd.Series(Data)\n",
    "print(s)"
   ]
  },
  {
   "cell_type": "code",
   "execution_count": 3,
   "metadata": {},
   "outputs": [
    {
     "name": "stdout",
     "output_type": "stream",
     "text": [
      "1    10\n",
      "2    20\n",
      "3    30\n",
      "4    40\n",
      "5    50\n",
      "6    60\n",
      "7    70\n",
      "dtype: int64\n"
     ]
    }
   ],
   "source": [
    "#basic 1 - d array with pre defined index \n",
    "Data = [10,20,30,40,50,60,70]\n",
    "index = [1,2,3,4,5,6,7]\n",
    "s = pd.Series(Data,index)\n",
    "print(s)\n"
   ]
  },
  {
   "cell_type": "code",
   "execution_count": 4,
   "metadata": {},
   "outputs": [
    {
     "name": "stdout",
     "output_type": "stream",
     "text": [
      "1    200\n",
      "2    300\n",
      "6    600\n",
      "5    100\n",
      "dtype: int64\n"
     ]
    }
   ],
   "source": [
    "#basic dictionary visualization\n",
    "dicitionary = {1:200,2:300,6:600,5:100}\n",
    "s = pd.Series(dicitionary)\n",
    "print(s)"
   ]
  },
  {
   "cell_type": "code",
   "execution_count": 5,
   "metadata": {},
   "outputs": [
    {
     "name": "stdout",
     "output_type": "stream",
     "text": [
      "   first  second\n",
      "1    100     100\n",
      "2    200     405\n",
      "3    300     450\n"
     ]
    }
   ],
   "source": [
    "dict1={1:100,2:200,3:300}\n",
    "dict2={1:100,2:405,3:450}\n",
    "data = {\"first\":dict1,\"second\":dict2}\n",
    "a = pd.DataFrame(data)\n",
    "print(a)"
   ]
  },
  {
   "cell_type": "code",
   "execution_count": 6,
   "metadata": {},
   "outputs": [
    {
     "name": "stdout",
     "output_type": "stream",
     "text": [
      "   first  second\n",
      "1  100.0     NaN\n",
      "2  200.0   405.0\n",
      "3  300.0   450.0\n",
      "4    NaN   100.0\n"
     ]
    }
   ],
   "source": [
    "dict1={1:100,2:200,3:300}\n",
    "dict2={4:100,2:405,3:450}\n",
    "data = {\"first\":dict1,\"second\":dict2}\n",
    "a = pd.DataFrame(data)\n",
    "print(a)"
   ]
  },
  {
   "cell_type": "code",
   "execution_count": 7,
   "metadata": {},
   "outputs": [
    {
     "name": "stdout",
     "output_type": "stream",
     "text": [
      "   first  second  third\n",
      "0     10      40   20.0\n",
      "1     20      50  304.0\n",
      "2     30      60  607.0\n",
      "3     40    7080   80.0\n",
      "4     50      70    NaN\n"
     ]
    }
   ],
   "source": [
    "s1 = pd.Series([10,20,30,40,50])\n",
    "s2 = pd.Series([40,50,60,7080,70])\n",
    "s3 = pd.Series([20,304,607,80])\n",
    "Data = {\"first\":s1,\"second\":s2,\"third\":s3}\n",
    "dfseries = pd.DataFrame(Data)\n",
    "print(dfseries)"
   ]
  },
  {
   "cell_type": "code",
   "execution_count": 13,
   "metadata": {},
   "outputs": [
    {
     "name": "stdout",
     "output_type": "stream",
     "text": [
      "       first      second\n",
      "0  [2, 3, 4]  [4, 56, 7]\n",
      "1  [5, 6, 7]   [8, 9, 0]\n"
     ]
    }
   ],
   "source": [
    "d1 = [[2,3,4],[5,6,7]]\n",
    "d2 = [[4,56,7],[8,9,0]]\n",
    "Data = {\"first\":d1,\"second\":d2}\n",
    "pds = pd.DataFrame(Data)\n",
    "print(pds)"
   ]
  }
 ],
 "metadata": {
  "kernelspec": {
   "display_name": "Python 3",
   "language": "python",
   "name": "python3"
  },
  "language_info": {
   "codemirror_mode": {
    "name": "ipython",
    "version": 3
   },
   "file_extension": ".py",
   "mimetype": "text/x-python",
   "name": "python",
   "nbconvert_exporter": "python",
   "pygments_lexer": "ipython3",
   "version": "3.11.2"
  },
  "orig_nbformat": 4,
  "vscode": {
   "interpreter": {
    "hash": "942d6c23a7404f45119157ec9284c19f65ec9c9bc5941b0949e3227e77c46dc2"
   }
  }
 },
 "nbformat": 4,
 "nbformat_minor": 2
}
