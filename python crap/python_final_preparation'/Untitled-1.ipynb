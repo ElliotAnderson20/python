{
 "cells": [
  {
   "cell_type": "markdown",
   "metadata": {},
   "source": [
    "                                                    CHP no.5"
   ]
  },
  {
   "attachments": {},
   "cell_type": "markdown",
   "metadata": {
    "vscode": {
     "languageId": "python"
    }
   },
   "source": [
    "the various things the oop concepts realted to python invovles:-\n",
    "1.class\n",
    "2.object\n",
    "3.data members\n",
    "4.instance variables\n",
    "5.class variables \n",
    "6.function overloading\n",
    "7.Abstraction\n",
    "8.Encapsulation\n",
    "9.Polymorphism\n",
    "10.Inheritance"
   ]
  },
  {
   "cell_type": "code",
   "execution_count": 2,
   "metadata": {},
   "outputs": [
    {
     "name": "stdout",
     "output_type": "stream",
     "text": [
      "this is a class\n",
      "this is a function of a class\n"
     ]
    }
   ],
   "source": [
    "#class-object demonstarion\n",
    "class Display():\n",
    "    print(\"this is a class\")\n",
    "    def display(self):\n",
    "        print(\"this is a function of a class\")\n",
    "d = Display() #object creation\n",
    "d.display()"
   ]
  },
  {
   "attachments": {},
   "cell_type": "markdown",
   "metadata": {},
   "source": [
    "constructor and destructors and attributes of the class"
   ]
  },
  {
   "cell_type": "code",
   "execution_count": 7,
   "metadata": {},
   "outputs": [
    {
     "name": "stdout",
     "output_type": "stream",
     "text": [
      "the n3 is 30\n"
     ]
    }
   ],
   "source": [
    "class Area:\n",
    "    def __init__(self,n1,n2):\n",
    "        self.n1=n1\n",
    "        self.n2=n2\n",
    "    def add(self):\n",
    "        n3 = self.n1+self.n2\n",
    "        print(\"the n3 is {}\".format(n3))\n",
    "a = Area(10,20)\n",
    "a.add()\n",
    "        "
   ]
  },
  {
   "cell_type": "code",
   "execution_count": 9,
   "metadata": {},
   "outputs": [
    {
     "name": "stdout",
     "output_type": "stream",
     "text": [
      "{'n1': 10, 'n2': 20}\n",
      "None\n",
      "__main__\n",
      "<class '__main__.Area'>\n",
      "the n3 is 30\n",
      "the object is being destroyed\n"
     ]
    }
   ],
   "source": [
    "class Area:\n",
    "    def __init__(self,n1,n2):\n",
    "        self.n1=n1\n",
    "        self.n2=n2\n",
    "    def add(self):\n",
    "        n3 = self.n1+self.n2\n",
    "        print(\"the n3 is {}\".format(n3))\n",
    "    def __del__(self):\n",
    "        print(\"the object is being destroyed\")\n",
    "a = Area(10,20)\n",
    "print(a.__dict__)\n",
    "print(a.__doc__)\n",
    "print(a.__module__)\n",
    "print(a.__class__)\n",
    "#print(a.__name__)\n",
    "a.add()\n",
    "del a "
   ]
  },
  {
   "cell_type": "code",
   "execution_count": 13,
   "metadata": {},
   "outputs": [
    {
     "name": "stdout",
     "output_type": "stream",
     "text": [
      "the value is1 \n"
     ]
    },
    {
     "ename": "AttributeError",
     "evalue": "'DI' object has no attribute '__one'",
     "output_type": "error",
     "traceback": [
      "\u001b[1;31m---------------------------------------------------------------------------\u001b[0m",
      "\u001b[1;31mAttributeError\u001b[0m                            Traceback (most recent call last)",
      "Cell \u001b[1;32mIn[13], line 10\u001b[0m\n\u001b[0;32m      8\u001b[0m d\u001b[39m=\u001b[39mDI()\n\u001b[0;32m      9\u001b[0m d\u001b[39m.\u001b[39mdis()\n\u001b[1;32m---> 10\u001b[0m \u001b[39mprint\u001b[39m(\u001b[39m\"\u001b[39m\u001b[39mthe value is :\u001b[39m\u001b[39m\"\u001b[39m,d\u001b[39m.\u001b[39;49m__one)\n",
      "\u001b[1;31mAttributeError\u001b[0m: 'DI' object has no attribute '__one'"
     ]
    }
   ],
   "source": [
    "#abstratcion and encapsulation:-\n",
    "class DI():\n",
    "    __one=0\n",
    "    def dis(self):\n",
    "       self.__one+=1\n",
    "       print(\"the value is{} \".format(self.__one))\n",
    "      \n",
    "d=DI()\n",
    "d.dis()\n",
    "print(\"the value is :\",d.__one)"
   ]
  },
  {
   "cell_type": "code",
   "execution_count": 16,
   "metadata": {},
   "outputs": [
    {
     "name": "stdout",
     "output_type": "stream",
     "text": [
      "50\n"
     ]
    },
    {
     "data": {
      "text/plain": [
       "100"
      ]
     },
     "execution_count": 16,
     "metadata": {},
     "output_type": "execute_result"
    }
   ],
   "source": [
    "#method overloading in the python\n",
    "class area():\n",
    "    def area1(self,n1=None,n2=None):\n",
    "        if(n1!=None and n2 !=None):\n",
    "            return n1*n2\n",
    "        elif(n1!=None):\n",
    "            return n1*n1\n",
    "        else:\n",
    "            print(\"enter the values\")\n",
    "a = area()\n",
    "print(a.area1(5,10))\n",
    "a.area1(10)"
   ]
  },
  {
   "cell_type": "code",
   "execution_count": 17,
   "metadata": {},
   "outputs": [
    {
     "name": "stdout",
     "output_type": "stream",
     "text": [
      "derived class\n",
      "base class\n"
     ]
    }
   ],
   "source": [
    "\"\"\"the various types of inheritance are as follows:-\n",
    "      1.single level\n",
    "      2.multilevel\n",
    "      3.hiearchical\n",
    "      4.multiple\"\"\"\n",
    "class single():\n",
    "    def display1(self):\n",
    "        print(\"base class\")\n",
    "class second(single):\n",
    "    def display2(self):\n",
    "        print(\"derived class\")\n",
    "sec = second()\n",
    "sec.display2()\n",
    "sec.display1()"
   ]
  },
  {
   "cell_type": "code",
   "execution_count": 18,
   "metadata": {},
   "outputs": [
    {
     "name": "stdout",
     "output_type": "stream",
     "text": [
      "the class derived from the another base class\n",
      "derived class\n",
      "base class\n"
     ]
    }
   ],
   "source": [
    "class single():\n",
    "    def display1(self):\n",
    "        print(\"base class\")\n",
    "class second(single):\n",
    "    def display2(self):\n",
    "        print(\"derived class\")\n",
    "class third(second):\n",
    "    def display3(self):\n",
    "        print(\"the class derived from the another base class\")\n",
    "\n",
    "sec = third()\n",
    "sec.display3()\n",
    "sec.display2()\n",
    "sec.display1()"
   ]
  },
  {
   "cell_type": "code",
   "execution_count": 19,
   "metadata": {},
   "outputs": [
    {
     "name": "stdout",
     "output_type": "stream",
     "text": [
      "the class derived from the another base class\n",
      "derived class\n",
      "base class\n"
     ]
    }
   ],
   "source": [
    "class single():\n",
    "    def display1(self):\n",
    "        print(\"base class\")\n",
    "class second():\n",
    "    def display2(self):\n",
    "        print(\"derived class\")\n",
    "class third(single,second):\n",
    "    def display3(self):\n",
    "        print(\"the class derived from the another base class\")\n",
    "\n",
    "sec = third()\n",
    "sec.display3()\n",
    "sec.display2()\n",
    "sec.display1()"
   ]
  },
  {
   "cell_type": "code",
   "execution_count": 20,
   "metadata": {},
   "outputs": [
    {
     "name": "stdout",
     "output_type": "stream",
     "text": [
      "the class derived from the another base class\n",
      "base class\n",
      "base class\n",
      "derived class\n"
     ]
    }
   ],
   "source": [
    "class single():\n",
    "    def display1(self):\n",
    "        print(\"base class\")\n",
    "class second(single):\n",
    "    def display2(self):\n",
    "        print(\"derived class\")\n",
    "class third(single):\n",
    "    def display3(self):\n",
    "        print(\"the class derived from the another base class\")\n",
    "\n",
    "sec = third()\n",
    "sec.display3()\n",
    "sec.display1()\n",
    "sec1 = second()\n",
    "sec1.display1()\n",
    "sec1.display2()"
   ]
  }
 ],
 "metadata": {
  "kernelspec": {
   "display_name": "Python 3",
   "language": "python",
   "name": "python3"
  },
  "language_info": {
   "codemirror_mode": {
    "name": "ipython",
    "version": 3
   },
   "file_extension": ".py",
   "mimetype": "text/x-python",
   "name": "python",
   "nbconvert_exporter": "python",
   "pygments_lexer": "ipython3",
   "version": "3.11.3"
  },
  "orig_nbformat": 4
 },
 "nbformat": 4,
 "nbformat_minor": 2
}
