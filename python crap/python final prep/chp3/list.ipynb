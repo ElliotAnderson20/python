{
 "cells": [
  {
   "cell_type": "code",
   "execution_count": 1,
   "metadata": {},
   "outputs": [
    {
     "name": "stdout",
     "output_type": "stream",
     "text": [
      "[10, 'ronit', 30, 60]\n"
     ]
    }
   ],
   "source": [
    "list1=[10,\"ronit\",30,60]\n",
    "print(list1)"
   ]
  },
  {
   "cell_type": "code",
   "execution_count": 2,
   "metadata": {},
   "outputs": [
    {
     "name": "stdout",
     "output_type": "stream",
     "text": [
      "['p', 'y', 't', 'h', 'o', 'n']\n"
     ]
    }
   ],
   "source": [
    "string = \"python\"\n",
    "print(list(string))"
   ]
  },
  {
   "cell_type": "code",
   "execution_count": 6,
   "metadata": {},
   "outputs": [
    {
     "name": "stdout",
     "output_type": "stream",
     "text": [
      "p\n",
      "pyth\n",
      "hon\n",
      "n\n",
      "nohtyp\n"
     ]
    }
   ],
   "source": [
    "#accessing the values in the list \n",
    "print(string[0])\n",
    "print(string[:4])\n",
    "print(string[3:])\n",
    "print(string[-1])\n",
    "print(string[::-1])"
   ]
  },
  {
   "cell_type": "code",
   "execution_count": 11,
   "metadata": {},
   "outputs": [
    {
     "name": "stdout",
     "output_type": "stream",
     "text": [
      "e\n",
      "d\n",
      "['h', 'o', ' ', 'w', 'o', 'r', 'l']\n",
      "None\n",
      "[20, 30, 40, 50]\n"
     ]
    }
   ],
   "source": [
    "#deleting the item in the list\n",
    "stri =\"hello world\"\n",
    "stri=list(stri)\n",
    "print(stri.pop(1))\n",
    "print(stri.pop())\n",
    "del stri[1:3]\n",
    "print(stri)\n",
    "del stri \n",
    "stri = [10,20,30,40,50]\n",
    "print(stri.remove(10))\n",
    "print(stri)\n"
   ]
  }
 ],
 "metadata": {
  "kernelspec": {
   "display_name": "Python 3",
   "language": "python",
   "name": "python3"
  },
  "language_info": {
   "codemirror_mode": {
    "name": "ipython",
    "version": 3
   },
   "file_extension": ".py",
   "mimetype": "text/x-python",
   "name": "python",
   "nbconvert_exporter": "python",
   "pygments_lexer": "ipython3",
   "version": "3.11.3"
  },
  "orig_nbformat": 4
 },
 "nbformat": 4,
 "nbformat_minor": 2
}
