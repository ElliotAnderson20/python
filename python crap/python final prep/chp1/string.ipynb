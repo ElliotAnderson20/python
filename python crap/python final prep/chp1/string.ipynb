{
 "cells": [
  {
   "cell_type": "code",
   "execution_count": 4,
   "metadata": {},
   "outputs": [
    {
     "name": "stdout",
     "output_type": "stream",
     "text": [
      " hello world  hello world  hello world \n",
      " hello world hello freind\n",
      " Hello World \n",
      " HELLO WORLD \n",
      " hello world \n",
      "b' hello world '\n",
      " hella warld \n",
      "hello world\n",
      "hello world \n",
      " hello world\n",
      "1\n",
      "5\n",
      "10\n",
      "7\n",
      "True\n",
      "True\n"
     ]
    }
   ],
   "source": [
    "string=\" hello world \"\n",
    "print(string*3)\n",
    "print(string+\"hello freind\")\n",
    "print(string.title())\n",
    "print(string.upper())\n",
    "print(string.lower())\n",
    "print(string.encode(\"UTF-8\"))\n",
    "print(string.replace(\"o\",\"a\"))\n",
    "print(string.strip())\n",
    "print(string.lstrip())\n",
    "print(string.rstrip())\n",
    "print(string.index(\"h\"))\n",
    "print(string.find(\"o\"))\n",
    "print(string.rfind(\"l\"))\n",
    "print(string.rindex(\"w\"))\n",
    "print(string.startswith(\"\"))\n",
    "print(string.endswith(\"\"))"
   ]
  }
 ],
 "metadata": {
  "kernelspec": {
   "display_name": "Python 3",
   "language": "python",
   "name": "python3"
  },
  "language_info": {
   "codemirror_mode": {
    "name": "ipython",
    "version": 3
   },
   "file_extension": ".py",
   "mimetype": "text/x-python",
   "name": "python",
   "nbconvert_exporter": "python",
   "pygments_lexer": "ipython3",
   "version": "3.11.3"
  },
  "orig_nbformat": 4
 },
 "nbformat": 4,
 "nbformat_minor": 2
}
